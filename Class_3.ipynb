{
 "cells": [
  {
   "cell_type": "code",
   "execution_count": 1,
   "id": "c5621ace",
   "metadata": {},
   "outputs": [
    {
     "name": "stdout",
     "output_type": "stream",
     "text": [
      "a\n",
      "b\n",
      "c\n",
      "d\n",
      "e\n",
      "f\n",
      "g\n"
     ]
    }
   ],
   "source": [
    "def lower(character):\n",
    "    code = ord(character)\n",
    "    if code < 65:\n",
    "        raise Exception(\"Character out of bounds!\")\n",
    "    if code > 90:\n",
    "        raise Exception(\"Character out of bounds!\")\n",
    "    return chr(code+32)\n",
    "\n",
    "for character in \"ABCDEFG\":\n",
    "    print(lower(character))"
   ]
  },
  {
   "cell_type": "code",
   "execution_count": 2,
   "id": "1ca09b96",
   "metadata": {},
   "outputs": [
    {
     "name": "stdout",
     "output_type": "stream",
     "text": [
      "A\n",
      "B\n",
      "C\n",
      "D\n",
      "E\n",
      "F\n",
      "G\n"
     ]
    }
   ],
   "source": [
    "def upper(character):\n",
    "    code = ord(character)\n",
    "    if code < 97:\n",
    "        raise Exception(\"Character out of bounds!\")\n",
    "    if code > 122:\n",
    "        raise Exception(\"Character out of bounds!\")\n",
    "    return chr(code - 32)\n",
    "\n",
    "for character in \"abcdefg\":\n",
    "    print(upper(character))"
   ]
  },
  {
   "cell_type": "code",
   "execution_count": 3,
   "id": "ba25c177",
   "metadata": {},
   "outputs": [
    {
     "data": {
      "text/plain": [
       "'IamLordVoldemort'"
      ]
     },
     "execution_count": 3,
     "metadata": {},
     "output_type": "execute_result"
    }
   ],
   "source": [
    "def replace(the_string, the_target, the_replacement):\n",
    "    output = \"\"\n",
    "    for character in the_string:\n",
    "        if character == the_target:\n",
    "            output += the_replacement\n",
    "        else:\n",
    "            output += character\n",
    "    return output\n",
    "\n",
    "replace(\"I am Lord Voldemort\", \" \", \"\")"
   ]
  },
  {
   "cell_type": "code",
   "execution_count": 4,
   "id": "5a30468c",
   "metadata": {},
   "outputs": [
    {
     "name": "stdout",
     "output_type": "stream",
     "text": [
      "ocat\n"
     ]
    }
   ],
   "source": [
    "def reverse(mystring):\n",
    "    output = \"\"\n",
    "    for character in range(len(mystring)-1, -1, -1):\n",
    "        output += mystring[character]\n",
    "    return output\n",
    "\n",
    "print(reverse(\"taco\"))\n"
   ]
  },
  {
   "cell_type": "code",
   "execution_count": null,
   "id": "11a2b57e",
   "metadata": {},
   "outputs": [],
   "source": [
    "from string import ascii_lowercase\n",
    "from random import randint, choice\n",
    "from time import sleep\n",
    "\n",
    "class Queue:\n",
    "    def __init__(self):\n",
    "        self.items = []\n",
    "\n",
    "    def enqueue(self, item):\n",
    "        self.items.insert(0, item)\n",
    "    \n",
    "    def dequeue(self):\n",
    "        return self.items.pop()\n",
    "\n",
    "    def size(self):\n",
    "        return len(self.items)\n",
    "\n",
    "    def is_empty(self):\n",
    "        return self.items == []"
   ]
  }
 ],
 "metadata": {
  "kernelspec": {
   "display_name": "Python 3 (ipykernel)",
   "language": "python",
   "name": "python3"
  },
  "language_info": {
   "codemirror_mode": {
    "name": "ipython",
    "version": 3
   },
   "file_extension": ".py",
   "mimetype": "text/x-python",
   "name": "python",
   "nbconvert_exporter": "python",
   "pygments_lexer": "ipython3",
   "version": "3.9.6"
  }
 },
 "nbformat": 4,
 "nbformat_minor": 5
}
