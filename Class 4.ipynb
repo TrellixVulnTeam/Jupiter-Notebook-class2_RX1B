{
 "cells": [
  {
   "cell_type": "code",
   "execution_count": 5,
   "id": "d0199b4c",
   "metadata": {},
   "outputs": [],
   "source": [
    "class Stack:\n",
    "    def __init__(self):\n",
    "        self.items = []\n",
    "\n",
    "    def push(self, item):\n",
    "        self.items.append(item)\n",
    "\n",
    "    def pop(self):\n",
    "        return self.items.pop()\n",
    "\n",
    "    def peek(self):\n",
    "        return self.items[len(self.items)-1]\n",
    "\n",
    "    def size(self):\n",
    "        return len(self.items)\n",
    "\n",
    "    def is_empty(self):\n",
    "        return self.items == []"
   ]
  },
  {
   "cell_type": "code",
   "execution_count": 1,
   "id": "d86c3dbc",
   "metadata": {},
   "outputs": [],
   "source": [
    "def balance_check(s):\n",
    "    if len(s)%2 != 0:\n",
    "        return False\n",
    "    opening = set(\"([{\")\n",
    "    matches = set([(\"(\",\")\"), (\"[\",\"]\"), (\"{\",\"}\")])\n",
    "    stack = Stack()\n",
    "    for paren in s:\n",
    "        if paren in opening:\n",
    "            stack.push(paren)\n",
    "        else:\n",
    "            if stack.is_empty():\n",
    "                return False\n",
    "            last_open = stack.pop()\n",
    "            if(last_open, paren) not in matches:\n",
    "                return False\n",
    "    return stack.is_empty()"
   ]
  },
  {
   "cell_type": "code",
   "execution_count": 6,
   "id": "4f02c3c9",
   "metadata": {},
   "outputs": [
    {
     "data": {
      "text/plain": [
       "True"
      ]
     },
     "execution_count": 6,
     "metadata": {},
     "output_type": "execute_result"
    }
   ],
   "source": [
    "balance_check(\"((([{[]}])))\")"
   ]
  },
  {
   "cell_type": "code",
   "execution_count": 9,
   "id": "b5f24bcd",
   "metadata": {},
   "outputs": [],
   "source": [
    "def fact(n):\n",
    "    if n == 0:\n",
    "        return 1\n",
    "    return n*fact(n-1)"
   ]
  },
  {
   "cell_type": "code",
   "execution_count": 10,
   "id": "49796918",
   "metadata": {},
   "outputs": [
    {
     "data": {
      "text/plain": [
       "3628800"
      ]
     },
     "execution_count": 10,
     "metadata": {},
     "output_type": "execute_result"
    }
   ],
   "source": [
    "fact(10)"
   ]
  },
  {
   "cell_type": "code",
   "execution_count": 11,
   "id": "a355d8c9",
   "metadata": {},
   "outputs": [],
   "source": [
    "def fib(n):\n",
    "    if n < 2:\n",
    "        return n\n",
    "    return fib(n-1) + fib(n-2)"
   ]
  },
  {
   "cell_type": "code",
   "execution_count": 12,
   "id": "61c2b617",
   "metadata": {},
   "outputs": [
    {
     "data": {
      "text/plain": [
       "21"
      ]
     },
     "execution_count": 12,
     "metadata": {},
     "output_type": "execute_result"
    }
   ],
   "source": [
    "fib(8)"
   ]
  },
  {
   "cell_type": "code",
   "execution_count": 13,
   "id": "f8b3f5a9",
   "metadata": {},
   "outputs": [
    {
     "data": {
      "text/plain": [
       "832040"
      ]
     },
     "execution_count": 13,
     "metadata": {},
     "output_type": "execute_result"
    }
   ],
   "source": [
    "fib(30)"
   ]
  },
  {
   "cell_type": "code",
   "execution_count": 14,
   "id": "015372cc",
   "metadata": {},
   "outputs": [],
   "source": [
    "from functools import lru_cache\n",
    "\n",
    "# {8: 21, 7:13, 6:8}\n",
    "@lru_cache\n",
    "def fib(n):\n",
    "    if n < 2:\n",
    "        return n\n",
    "    return fib(n-1) + fib(n-2)"
   ]
  },
  {
   "cell_type": "code",
   "execution_count": 15,
   "id": "9f6c73ab",
   "metadata": {},
   "outputs": [
    {
     "data": {
      "text/plain": [
       "832040"
      ]
     },
     "execution_count": 15,
     "metadata": {},
     "output_type": "execute_result"
    }
   ],
   "source": [
    "fib(30)"
   ]
  },
  {
   "cell_type": "code",
   "execution_count": 16,
   "id": "edb301de",
   "metadata": {},
   "outputs": [
    {
     "data": {
      "text/plain": [
       "354224848179261915075"
      ]
     },
     "execution_count": 16,
     "metadata": {},
     "output_type": "execute_result"
    }
   ],
   "source": [
    "fib(100)"
   ]
  },
  {
   "cell_type": "code",
   "execution_count": 17,
   "id": "08b35ae7",
   "metadata": {},
   "outputs": [
    {
     "data": {
      "text/plain": [
       "280571172992510140037611932413038677189525"
      ]
     },
     "execution_count": 17,
     "metadata": {},
     "output_type": "execute_result"
    }
   ],
   "source": [
    "fib(200)"
   ]
  },
  {
   "cell_type": "code",
   "execution_count": 18,
   "id": "2155c53a",
   "metadata": {},
   "outputs": [],
   "source": [
    "class Node:\n",
    "    def __init__(self, data):\n",
    "        self.data = data\n",
    "        self.next = None"
   ]
  },
  {
   "cell_type": "code",
   "execution_count": 19,
   "id": "b0b6f030",
   "metadata": {},
   "outputs": [],
   "source": [
    "class LinkedList:\n",
    "    def __init__(self):\n",
    "        self.head = None\n",
    "        \n",
    "    def get_node_by_value(self, target):\n",
    "        current = self.head\n",
    "        while current: # this is shorthand for \"while current.next != None\"\n",
    "            if current.data == target:\n",
    "                return current\n",
    "            current = current.next\n",
    "        raise ValueError(\"Node not found.\")\n",
    "    \n",
    "    def prepend(self):\n",
    "        new_node = Node(data)\n",
    "        if self.head != None: #this means, we already have data in our list (if true)\n",
    "            new_node.next = self.head\n",
    "        self.head = new_node\n",
    "        \n",
    "    def insert_after_value(self, data, target): #insert the \"data\" after the \"target\" value.\n",
    "        target_node = self.get_node_by_value(target)\n",
    "        new_node = Node(data)\n",
    "        target_node.next = new_node\n",
    "        \n",
    "    def insert_before_value(self,data,target):\n",
    "        current = self.head\n",
    "        if current.data == target:\n",
    "                self.prepend(data)\n",
    "        else:\n",
    "            while current.next:\n",
    "                previous = current\n",
    "                current = current.next\n",
    "                if current.data == target:\n",
    "                    new_node = Node(data)\n",
    "                    new_node.next = current\n",
    "                    previous.next = new_node\n",
    "                    \n",
    "    def insert_after_index(self, data, index):\n",
    "        current = self.head\n",
    "        new_node = Node(data)\n",
    "        found = False\n",
    "        count = 0\n",
    "        while current and found == False:\n",
    "            if count == index:\n",
    "                found = True\n",
    "                current.next = new_node\n",
    "            else:\n",
    "                current = current.next\n",
    "                count += 1\n",
    "        if not found:\n",
    "            raise IndexError(\"list index out of range\")\n",
    "            \n",
    "    def append(self, data):\n",
    "        new_node = Node(data)\n",
    "        if not self.head:\n",
    "            self.head = new_node\n",
    "        else:\n",
    "            while current.next:\n",
    "                current = current.next\n",
    "            current.next = new_node\n",
    "            \n",
    "    def remove_by_value(self, target):\n",
    "        current = self.head\n",
    "        if current.data == target:\n",
    "            self.head = current.next\n",
    "        else:\n",
    "            found = False\n",
    "            while current and not found:\n",
    "                previous = current\n",
    "                current = current.next\n",
    "                if current.data == target:\n",
    "                    found = True\n",
    "                    previous.next = current.next\n",
    "            if not found:\n",
    "                raise ValueError(\"Value not found in list\")\n",
    "                \n",
    "    def search(self, value):  #return True or False, depending on whether or not \n",
    "        pass                  #the value is in the list\n",
    "    \n",
    "    def index(self, value):   #Return the value of a node given an index.\n",
    "        pass\n",
    "        \n",
    "    \n",
    "        \n",
    "        \n",
    "        "
   ]
  },
  {
   "cell_type": "code",
   "execution_count": 20,
   "id": "4d7fc24a",
   "metadata": {},
   "outputs": [],
   "source": [
    "class DNode:\n",
    "    def __init__(self, data):\n",
    "        self.data = data\n",
    "        self.next = None\n",
    "        self.prev = None"
   ]
  },
  {
   "cell_type": "code",
   "execution_count": null,
   "id": "307f9cfd",
   "metadata": {},
   "outputs": [],
   "source": [
    "class DLL:\n",
    "    def __init__(self):\n",
    "        self.head = None\n",
    "        \n",
    "    def append(self, data):\n",
    "        new_node = DNode()\n",
    "        if not self.head:\n",
    "            self.head = new_node\n",
    "        else:\n",
    "            current = self.head\n",
    "            while current.next:\n",
    "                current = current.next    # once we exit this while loop, we will have reached the tail.\n",
    "            current.next = new_node\n",
    "            new_node.prev = current"
   ]
  }
 ],
 "metadata": {
  "kernelspec": {
   "display_name": "Python 3 (ipykernel)",
   "language": "python",
   "name": "python3"
  },
  "language_info": {
   "codemirror_mode": {
    "name": "ipython",
    "version": 3
   },
   "file_extension": ".py",
   "mimetype": "text/x-python",
   "name": "python",
   "nbconvert_exporter": "python",
   "pygments_lexer": "ipython3",
   "version": "3.9.6"
  }
 },
 "nbformat": 4,
 "nbformat_minor": 5
}
