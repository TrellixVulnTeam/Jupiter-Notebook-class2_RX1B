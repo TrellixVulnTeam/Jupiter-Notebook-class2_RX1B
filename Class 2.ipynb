{
 "cells": [
  {
   "cell_type": "code",
   "execution_count": 1,
   "id": "dc077878",
   "metadata": {},
   "outputs": [
    {
     "name": "stdout",
     "output_type": "stream",
     "text": [
      "H\n",
      "e\n",
      "l\n",
      "l\n",
      "o\n",
      ",\n",
      " \n",
      "w\n",
      "o\n",
      "r\n",
      "l\n",
      "d\n",
      "!\n"
     ]
    }
   ],
   "source": [
    "for letter in \"Hello, world!\":\n",
    "    print(letter)"
   ]
  },
  {
   "cell_type": "markdown",
   "id": "d02dc1a9",
   "metadata": {},
   "source": [
    "# Problem 1\n",
    "### Given two strings(string_a and string_b) let's check whether or not they are anagrams of each other given the following criterea:\n",
    ">Two string are only anagrams of each other if all conditions below are met:\n",
    "> * They must be of exactly the same length.\n",
    "> * They must use exactly the same characters (no more, no less).\n",
    "> Example: cars and scar, heart and earth, etc."
   ]
  },
  {
   "cell_type": "code",
   "execution_count": 2,
   "id": "999d4c3b",
   "metadata": {},
   "outputs": [],
   "source": [
    "def is_anagram(string_a, string_b):\n",
    "    if len(string_a) != len(string_b):\n",
    "        return False\n",
    "    string_a = string_a.upper()\n",
    "    string_b = string_b.upper()\n",
    "    string_a = string_a.replace(\" \", \"\")\n",
    "    string_b = string_b.replace(\" \", \"\")\n",
    "    char_times_a = dict() # {\"c\": 1, \"a\": 1, \"r\": 1, \"s\": 1}\n",
    "    char_times_b = dict() # {\"s\": 1, \"c\": 1, \"a\": 1, \"r\": 1}\n",
    "    for i in range(len(string_a)):\n",
    "        if string_a[i] not in char_times_a.keys():\n",
    "            char_times_a[string_a[i]] = 1\n",
    "        else:\n",
    "            char_times_a[string_a[i]] += 1\n",
    "        if string_b[i] not in char_times_b.keys():\n",
    "            char_times_b[string_b[i]] = 1\n",
    "        else:\n",
    "            char_times_b[string_b[i]] += 1\n",
    "    return char_times_a == char_times_b\n",
    "    \n",
    "    \n",
    "# declare function -> parameters: [string_a, string_b]\n",
    "# if string_a is not of same length as string_b:\n",
    "#  return False\n",
    "# check if they use exactly the same characters"
   ]
  },
  {
   "cell_type": "code",
   "execution_count": 3,
   "id": "ca60e34f",
   "metadata": {},
   "outputs": [
    {
     "data": {
      "text/plain": [
       "True"
      ]
     },
     "execution_count": 3,
     "metadata": {},
     "output_type": "execute_result"
    }
   ],
   "source": [
    "is_anagram(\"cars\", \"scar\")"
   ]
  },
  {
   "cell_type": "code",
   "execution_count": 4,
   "id": "2a823018",
   "metadata": {},
   "outputs": [],
   "source": [
    "class Stack:\n",
    "    def __init__(self):\n",
    "        self.items = []\n",
    "\n",
    "    def push(self, item):\n",
    "        self.items.append(item)\n",
    "\n",
    "    def pop(self):\n",
    "        return self.items.pop()\n",
    "\n",
    "    def peek(self):\n",
    "        return self.items[len(self.items)-1]\n",
    "\n",
    "    def size(self):\n",
    "        return len(self.items)\n",
    "\n",
    "    def is_empty(self):\n",
    "        return self.items == []"
   ]
  },
  {
   "cell_type": "code",
   "execution_count": 5,
   "id": "a1b73e19",
   "metadata": {},
   "outputs": [
    {
     "name": "stdout",
     "output_type": "stream",
     "text": [
      "My stack size: 10\n",
      "9\n",
      "8\n",
      "7\n",
      "6\n",
      "5\n",
      "4\n",
      "3\n",
      "2\n",
      "1\n",
      "0\n"
     ]
    }
   ],
   "source": [
    "mystack = Stack()\n",
    "\n",
    "for number in range(0, 10):\n",
    "    mystack.push(number)\n",
    "\n",
    "print(\"My stack size: %s\" % mystack.size())\n",
    "\n",
    "while not mystack.is_empty():\n",
    "    print(mystack.pop())"
   ]
  },
  {
   "cell_type": "code",
   "execution_count": null,
   "id": "f85d372e",
   "metadata": {},
   "outputs": [],
   "source": []
  }
 ],
 "metadata": {
  "kernelspec": {
   "display_name": "Python 3 (ipykernel)",
   "language": "python",
   "name": "python3"
  },
  "language_info": {
   "codemirror_mode": {
    "name": "ipython",
    "version": 3
   },
   "file_extension": ".py",
   "mimetype": "text/x-python",
   "name": "python",
   "nbconvert_exporter": "python",
   "pygments_lexer": "ipython3",
   "version": "3.9.6"
  }
 },
 "nbformat": 4,
 "nbformat_minor": 5
}
